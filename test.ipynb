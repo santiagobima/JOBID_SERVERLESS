{
 "cells": [
  {
   "cell_type": "code",
   "execution_count": 5,
   "metadata": {},
   "outputs": [],
   "source": [
    "import boto3\n",
    "import json\n",
    "import logging\n",
    "import os\n",
    "from typing import Dict, Any\n",
    "\n",
    "boto3.setup_default_session(profile_name='test')"
   ]
  },
  {
   "cell_type": "code",
   "execution_count": 8,
   "metadata": {},
   "outputs": [
    {
     "name": "stdout",
     "output_type": "stream",
     "text": [
      "Data length is 12. Expected length equal to 12\n",
      "Data is not good. Exiting the process.\n"
     ]
    }
   ],
   "source": [
    "# Constants\n",
    "DATA_BUCKET = 'tag-dl-sandbox-data'\n",
    "S3_CLIENT = boto3.client('s3')\n",
    "\n",
    "def get_json_file_from_s3(s3_client, bucket: str, key: str) -> Dict[str, Any]:\n",
    "    try:\n",
    "        response = s3_client.get_object(Bucket=bucket, Key=key)\n",
    "        return json.loads(response['Body'].read())  # File is good\n",
    "    except Exception as e:\n",
    "        print(f'Error while getting file from S3: {e}')\n",
    "        raise e  # File is not good\n",
    "\n",
    "def check_data(data: Dict[str, Any]) -> bool:\n",
    "    if len(data) == 1:\n",
    "        return True\n",
    "    else:\n",
    "        print(f'Data length is {len(data)}. Expected length equal to 12')\n",
    "        return False\n",
    "\n",
    "def prepare_data(job_id_json_file: Dict[str, Any]) -> Dict[str, Any]:\n",
    "    return job_id_json_file\n",
    "\n",
    "def send_data_to_bizaway(data: Dict[str, Any]) -> Dict[str, Any]:\n",
    "    response = {\n",
    "        'status': 'success',\n",
    "        'message': 'Data has been sent to BizAway'\n",
    "    }\n",
    "    return response\n",
    "\n",
    "\n",
    "# TYPING ANNOTIONS\n",
    "\n",
    "key_with_one = 'intake/transition/job_id_services/TAG_JOB_ID/1715783629_3ba17.json'\n",
    "key_with_many = 'intake/transition/job_id_services/TAG_JOB_ID/part-00000-c00ce0c7-dc7a-4690-8b85-abeca5ff5152-c000.json'\n",
    "\n",
    "\n",
    "job_id_json_file = get_json_file_from_s3(s3_client=S3_CLIENT, bucket=DATA_BUCKET, key=key_with_one)\n",
    "prepared_data = prepare_data(job_id_json_file)\n",
    "response = send_data_to_bizaway(prepared_data)\n",
    "print(response)\n",
    "\n",
    "\n",
    "\n",
    "\n",
    "\n",
    "\n",
    "\n",
    "\n",
    "    \n",
    "\n",
    "\n",
    "#step_1 = read from s3---> DONE\n",
    "#step 2 = check if it is good--> DONE\n",
    "#step 3 = prepare the data--> HOW I PREPARE THE DATA? WHICH ARE THE REQUIREMENTS?\n",
    "#step 4 = send the data--> WHERE?\n",
    "\n"
   ]
  },
  {
   "cell_type": "code",
   "execution_count": null,
   "metadata": {},
   "outputs": [],
   "source": []
  }
 ],
 "metadata": {
  "kernelspec": {
   "display_name": "glue310",
   "language": "python",
   "name": "python3"
  },
  "language_info": {
   "codemirror_mode": {
    "name": "ipython",
    "version": 3
   },
   "file_extension": ".py",
   "mimetype": "text/x-python",
   "name": "python",
   "nbconvert_exporter": "python",
   "pygments_lexer": "ipython3",
   "version": "3.10.0"
  }
 },
 "nbformat": 4,
 "nbformat_minor": 2
}
